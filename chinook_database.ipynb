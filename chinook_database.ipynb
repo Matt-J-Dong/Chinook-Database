{
 "cells": [
  {
   "cell_type": "code",
   "execution_count": 2,
   "metadata": {},
   "outputs": [],
   "source": [
    "#Imports and definitions\n",
    "import sqlite3\n",
    "import pandas as pd\n",
    "import os\n",
    "import pandasql\n",
    "conn = sqlite3.connect(\"chinook.db\")\n",
    "def execSQL(conn,query):\n",
    "  conn.execute(query) # execute an SQL query\n",
    "  conn.commit() # \"commit\" that query in order to make its action permanent\n",
    "def allrowsSelect(conn,query):\n",
    "  cursor = conn.execute(query)\n",
    "  for row in cursor:\n",
    "   print(row)"
   ]
  },
  {
   "cell_type": "code",
   "execution_count": 3,
   "metadata": {},
   "outputs": [
    {
     "name": "stdout",
     "output_type": "stream",
     "text": [
      "(0, 'InvoiceId', 'INTEGER', 1, None, 1)\n",
      "(1, 'CustomerId', 'INTEGER', 1, None, 0)\n",
      "(2, 'InvoiceDate', 'DATETIME', 1, None, 0)\n",
      "(3, 'BillingAddress', 'NVARCHAR(70)', 0, None, 0)\n",
      "(4, 'BillingCity', 'NVARCHAR(40)', 0, None, 0)\n",
      "(5, 'BillingState', 'NVARCHAR(40)', 0, None, 0)\n",
      "(6, 'BillingCountry', 'NVARCHAR(40)', 0, None, 0)\n",
      "(7, 'BillingPostalCode', 'NVARCHAR(10)', 0, None, 0)\n",
      "(8, 'Total', 'NUMERIC(10,2)', 1, None, 0)\n"
     ]
    }
   ],
   "source": [
    "#Test code\n",
    "allrowsSelect(conn,\"select * from pragma_table_info('invoices')\")\n",
    "#allrowsSelect(conn,\"select * from pragma_table_list('invoices')\")\n",
    "#allrowsSelect(conn,\"select * from pragma_index_info('invoices')\")\n",
    "#allrowsSelect(conn,\"select * from pragma_main_index_xinfo('invoices')\")\n",
    "#allrowsSelect(conn,\"select * from pragma_stats\")\n"
   ]
  },
  {
   "cell_type": "code",
   "execution_count": 4,
   "metadata": {},
   "outputs": [
    {
     "name": "stdout",
     "output_type": "stream",
     "text": [
      "(7, 'Edinburgh ')\n",
      "(14, 'London')\n"
     ]
    }
   ],
   "source": [
    "#Problem 1:\n",
    "#allrowsSelect(conn,\"select * from invoices where BillingCountry = 'United Kingdom' order by total desc\")\n",
    "#allrowsSelect(conn,\"select BillingCity from invoices where BillingCountry = 'United Kingdom';\")\n",
    "allrowsSelect(conn,\"select count(*),BillingCity from invoices where BillingCountry = 'United Kingdom' group by BillingCity;\")\n",
    "\n",
    "#Answer is Edinburgh with 7 invoices"
   ]
  },
  {
   "cell_type": "code",
   "execution_count": 5,
   "metadata": {},
   "outputs": [
    {
     "name": "stdout",
     "output_type": "stream",
     "text": [
      "(37.97,)\n"
     ]
    }
   ],
   "source": [
    "#Problem 2\n",
    "execSQL(conn,\"drop table if exists invoice_total\")\n",
    "execSQL(conn,'''create table invoice_total as select *\n",
    "FROM invoice_items\n",
    "INNER JOIN invoices on invoices.InvoiceId = invoice_items.InvoiceId;''')\n",
    "allrowsSelect(conn,\"select round(avg(c),2) from (select count(TrackId) as c from invoice_total group by CustomerId);\")\n",
    "\n",
    "#37.97 is the average number of tracks purchased\n"
   ]
  },
  {
   "cell_type": "code",
   "execution_count": 6,
   "metadata": {},
   "outputs": [
    {
     "name": "stdout",
     "output_type": "stream",
     "text": [
      "(13,)\n"
     ]
    }
   ],
   "source": [
    "#Problem 3:\n",
    "allrowsSelect(conn,'''select count(distinct Title)\n",
    "FROM albums \n",
    "INNER JOIN tracks on albums.AlbumId = tracks.AlbumId where GenreId=2;''')\n",
    "\n",
    "#13 albums have jazz tracks"
   ]
  },
  {
   "cell_type": "code",
   "execution_count": 7,
   "metadata": {},
   "outputs": [
    {
     "name": "stdout",
     "output_type": "stream",
     "text": [
      "(9, 22)\n"
     ]
    }
   ],
   "source": [
    "#Problem 4:\n",
    "allrowsSelect(conn,'''select count(*),GenreId\n",
    "FROM tracks \n",
    "INNER JOIN invoice_items on tracks.TrackId = invoice_items.TrackId where GenreId=22;''')\n",
    "\n",
    "#9 comedy tracks were purchased in total"
   ]
  },
  {
   "cell_type": "code",
   "execution_count": 19,
   "metadata": {},
   "outputs": [
    {
     "name": "stdout",
     "output_type": "stream",
     "text": [
      "(9, 'Leonie', 'Köhler')\n"
     ]
    }
   ],
   "source": [
    "#Problem 5:\n",
    "execSQL(conn,\"drop table if exists blues_invoices\")\n",
    "allrowsSelect(conn,'''create table blues_invoices as select *\n",
    "FROM tracks \n",
    "INNER JOIN invoice_items on tracks.TrackId = invoice_items.TrackId where GenreId=6;''')\n",
    "#allrowsSelect(conn,'''select * from blues_invoices;''')\n",
    "execSQL(conn,\"drop table if exists blues_invoices_data\")\n",
    "allrowsSelect(conn,'''create table blues_invoices_data as select *\n",
    "FROM invoices \n",
    "INNER JOIN blues_invoices on blues_invoices.InvoiceId = invoices.InvoiceId;''')\n",
    "#allrowsSelect(conn,'''select * from blues_invoices_data;''')\n",
    "execSQL(conn,\"drop table if exists blues_invoices_customers\")\n",
    "allrowsSelect(conn,'''create table blues_invoices_customers as select *\n",
    "FROM customers \n",
    "INNER JOIN blues_invoices_data on blues_invoices_data.CustomerId = customers.CustomerId;''')\n",
    "allrowsSelect(conn,'''select count(*),FirstName,LastName from blues_invoices_customers group by FirstName,LastName order by count(*) desc limit 1;''')\n",
    "#allrowsSelect(conn,'''select * from blues_invoices_customers;''')\n",
    "\n",
    "#Leonie Köhler has bought the most blues tracks, at 9 tracks\n"
   ]
  },
  {
   "cell_type": "code",
   "execution_count": 18,
   "metadata": {},
   "outputs": [
    {
     "name": "stdout",
     "output_type": "stream",
     "text": [
      "(2195, 'Alive', 181, 1, 1, 'Stone Gossard', 341080, 11176623, 0.99, 16, 2195, 16, 'Grunge')\n",
      "(2516, 'Black Hole Sun', 203, 1, 1, 'Soundgarden', 320365, 10425229, 0.99, 16, 2516, 16, 'Grunge')\n"
     ]
    }
   ],
   "source": [
    "#Problem 6:\n",
    "execSQL(conn,\"drop table if exists grunge\")\n",
    "execSQL(conn,'''create table grunge as select *\n",
    "FROM playlist_track\n",
    "INNER JOIN playlists on playlists.PlaylistId = playlist_track.PlaylistId;''')\n",
    "#allrowsSelect(conn,'''select * from grunge where PlaylistId=16;''')\n",
    "execSQL(conn,\"drop table if exists grunge_tracks\")\n",
    "execSQL(conn,'''create table grunge_tracks as select *\n",
    "FROM tracks\n",
    "INNER JOIN grunge on grunge.TrackId = tracks.TrackId;''')\n",
    "allrowsSelect(conn,'''select * from grunge_tracks where PlaylistId=16 order by Name limit 2;''')\n",
    "\n",
    "#Black Hole Sun is the second alphabetically "
   ]
  },
  {
   "cell_type": "code",
   "execution_count": 10,
   "metadata": {},
   "outputs": [
    {
     "name": "stdout",
     "output_type": "stream",
     "text": [
      "(10,)\n"
     ]
    }
   ],
   "source": [
    "#Problem 7:\n",
    "#allrowsSelect(conn,'''select * from invoice_total;''')\n",
    "execSQL(conn,\"drop table if exists album_track\")\n",
    "execSQL(conn,'''create table album_track as select *\n",
    "FROM tracks\n",
    "INNER JOIN albums on albums.AlbumId = tracks.AlbumId;''')\n",
    "#allrowsSelect(conn,'''select * from album_track;''')\n",
    "execSQL(conn,\"drop table if exists invoice_track\")\n",
    "execSQL(conn,'''create table invoice_track as select *\n",
    "FROM album_track\n",
    "INNER JOIN invoice_items on invoice_items.TrackId = album_track.TrackId;''')\n",
    "allrowsSelect(conn,'''select count(*) from (select sum(UnitPrice) from invoice_track group by AlbumId having sum(UnitPrice)>20);''')\n",
    "\n",
    "#10 albums have sold more than 20 dollars worth of tracks"
   ]
  },
  {
   "cell_type": "code",
   "execution_count": 11,
   "metadata": {},
   "outputs": [
    {
     "name": "stdout",
     "output_type": "stream",
     "text": [
      "(19.7,)\n"
     ]
    }
   ],
   "source": [
    "#Problem 8:\n",
    "#allrowsSelect(conn,'''select * from invoice_total;''')\n",
    "execSQL(conn,\"drop table if exists supported_by\")\n",
    "execSQL(conn,'''create table supported_by as select *\n",
    "FROM employees\n",
    "INNER JOIN customers on customers.SupportRepId = employees.EmployeeId;''')\n",
    "allrowsSelect(conn,'''select round(avg(c),1) from (select count(*) as c,FirstName,LastName from supported_by group by EmployeeId);''')\n",
    "#allrowsSelect(conn,'''select FirstName,LastName from supported_by group by EmployeeId;''')\n",
    "#allrowsSelect(conn,'''select * from customers;''')\n",
    "\n",
    "#On average 19.7 customers are serviced by each customer support employee."
   ]
  },
  {
   "cell_type": "code",
   "execution_count": 33,
   "metadata": {},
   "outputs": [
    {
     "name": "stdout",
     "output_type": "stream",
     "text": [
      "(4,)\n"
     ]
    }
   ],
   "source": [
    "#Problem 9:\n",
    "#allrowsSelect(conn,'''select * from invoice_total;''')\n",
    "execSQL(conn,\"drop table if exists track_genre\")\n",
    "execSQL(conn,'''create table track_genre as select *\n",
    "FROM genres\n",
    "INNER JOIN tracks on tracks.GenreId = genres.GenreId;''')\n",
    "#allrowsSelect(conn,'''select * from album_track;''')\n",
    "# execSQL(conn,\"drop table if exists invoice_track\")\n",
    "# execSQL(conn,'''create table invoice_track as select *\n",
    "# FROM album_track\n",
    "# INNER JOIN invoice_total on invoice_total.TrackId = album_track.TrackId;''')\n",
    "#allrowsSelect(conn,'''select * from track_genre;''')\n",
    "execSQL(conn,\"drop table if exists invoice_genre\")\n",
    "execSQL(conn,'''create table invoice_genre as select *\n",
    "FROM track_genre\n",
    "INNER JOIN invoice_items on invoice_items.TrackId = track_genre.TrackId;''')\n",
    "#allrowsSelect(conn,'''select count(*) from (select sum(UnitPrice) from invoice_genre group by GenreId having sum(UnitPrice)>200);''')\n",
    "allrowsSelect(conn,'''select count(*) from (select sum(invoice_items.UnitPrice)\n",
    " from genres,tracks,invoice_items where genres.GenreId=tracks.GenreId and invoice_items.TrackId=tracks.TrackId\n",
    " group by genres.Name having sum(invoice_items.UnitPrice)>200);''')\n",
    "\n",
    "#4 genres had sales exceeding $200."
   ]
  },
  {
   "cell_type": "code",
   "execution_count": 17,
   "metadata": {},
   "outputs": [
    {
     "name": "stdout",
     "output_type": "stream",
     "text": [
      "(21, 'Iron Maiden')\n",
      "(14, 'Led Zeppelin')\n",
      "(11, 'Deep Purple')\n"
     ]
    }
   ],
   "source": [
    "#Problem 10:\n",
    "execSQL(conn,\"drop table if exists artist_album\")\n",
    "execSQL(conn,'''create table artist_album as select *\n",
    "FROM albums\n",
    "INNER JOIN artists on artists.ArtistId = albums.ArtistId;''')\n",
    "#allrowsSelect(conn,'''select * from artist_album;''')\n",
    "allrowsSelect(conn,'''select count(*),Name from artist_album group by Name order by count(*) desc limit 3;''')\n",
    "#allrowsSelect(conn,'''select distinct Name from artist_album order by Name desc;''')\n",
    "\n",
    "#Deep Purple has the third most albums in the database."
   ]
  },
  {
   "cell_type": "code",
   "execution_count": 16,
   "metadata": {},
   "outputs": [
    {
     "name": "stdout",
     "output_type": "stream",
     "text": [
      "(60, 'Fireball', 58, 764, \"Anyone's Daughter\", 60, 1, 1, 'Ritchie Blackmore, Ian Gillan, Roger Glover, Jon Lord, Ian Paice', 284682, 9354480, 0.99)\n",
      "(60, 'Fireball', 58, 761, 'Fireball', 60, 1, 1, 'Ritchie Blackmore, Ian Gillan, Roger Glover, Jon Lord, Ian Paice', 204721, 6714807, 0.99)\n",
      "(60, 'Fireball', 58, 766, 'Fools', 60, 1, 1, 'Ritchie Blackmore, Ian Gillan, Roger Glover, Jon Lord, Ian Paice', 500427, 16279366, 0.99)\n"
     ]
    }
   ],
   "source": [
    "#Problem 11:\n",
    "execSQL(conn,\"drop table if exists track_album\")\n",
    "execSQL(conn,'''create table track_album as select *\n",
    "FROM albums\n",
    "INNER JOIN tracks on tracks.AlbumId = albums.AlbumId;''')\n",
    "allrowsSelect(conn,'''select * from track_album where Title = \"Fireball\" order by Name limit 3;''')\n",
    "\n",
    "#Fool is the third track in Fireball in alphabetical order"
   ]
  },
  {
   "cell_type": "code",
   "execution_count": 15,
   "metadata": {},
   "outputs": [
    {
     "name": "stdout",
     "output_type": "stream",
     "text": [
      "   count(*)\n",
      "0        71\n"
     ]
    }
   ],
   "source": [
    "#Problem 12:\n",
    "execSQL(conn,\"drop table if exists no_artist_album\")\n",
    "execSQL(conn,'''create table no_artist_album as select *\n",
    "FROM artists\n",
    "LEFT JOIN albums on artists.ArtistId = albums.ArtistId where AlbumId is NULL;''')\n",
    "#allrowsSelect(conn, \"select * from no_artist_album;\")\n",
    "df = pd.read_sql_query(\"select count(*) from (select * from no_artist_album);\", conn)\n",
    "#print(df[df['ArtistId'] == None])\n",
    "print(df)\n",
    "\n",
    "#71 artists do not have any albums in the database."
   ]
  },
  {
   "cell_type": "code",
   "execution_count": 36,
   "metadata": {},
   "outputs": [
    {
     "data": {
      "text/html": [
       "<div>\n",
       "<style scoped>\n",
       "    .dataframe tbody tr th:only-of-type {\n",
       "        vertical-align: middle;\n",
       "    }\n",
       "\n",
       "    .dataframe tbody tr th {\n",
       "        vertical-align: top;\n",
       "    }\n",
       "\n",
       "    .dataframe thead th {\n",
       "        text-align: right;\n",
       "    }\n",
       "</style>\n",
       "<table border=\"1\" class=\"dataframe\">\n",
       "  <thead>\n",
       "    <tr style=\"text-align: right;\">\n",
       "      <th></th>\n",
       "      <th>sum(Milliseconds)</th>\n",
       "      <th>Title</th>\n",
       "    </tr>\n",
       "  </thead>\n",
       "  <tbody>\n",
       "    <tr>\n",
       "      <th>0</th>\n",
       "      <td>51780</td>\n",
       "      <td>Liszt - 12 Études D'Execution Transcendante</td>\n",
       "    </tr>\n",
       "    <tr>\n",
       "      <th>1</th>\n",
       "      <td>66639</td>\n",
       "      <td>Monteverdi: L'Orfeo</td>\n",
       "    </tr>\n",
       "    <tr>\n",
       "      <th>2</th>\n",
       "      <td>101293</td>\n",
       "      <td>SCRIABIN: Vers la flamme</td>\n",
       "    </tr>\n",
       "    <tr>\n",
       "      <th>3</th>\n",
       "      <td>110266</td>\n",
       "      <td>Charpentier: Divertissements, Airs &amp; Concerts</td>\n",
       "    </tr>\n",
       "    <tr>\n",
       "      <th>4</th>\n",
       "      <td>120000</td>\n",
       "      <td>Handel: Music for the Royal Fireworks (Origina...</td>\n",
       "    </tr>\n",
       "    <tr>\n",
       "      <th>...</th>\n",
       "      <td>...</td>\n",
       "      <td>...</td>\n",
       "    </tr>\n",
       "    <tr>\n",
       "      <th>342</th>\n",
       "      <td>59780268</td>\n",
       "      <td>Heroes, Season 1</td>\n",
       "    </tr>\n",
       "    <tr>\n",
       "      <th>343</th>\n",
       "      <td>63289631</td>\n",
       "      <td>Lost, Season 2</td>\n",
       "    </tr>\n",
       "    <tr>\n",
       "      <th>344</th>\n",
       "      <td>64854936</td>\n",
       "      <td>Lost, Season 1</td>\n",
       "    </tr>\n",
       "    <tr>\n",
       "      <th>345</th>\n",
       "      <td>70213784</td>\n",
       "      <td>Battlestar Galactica (Classic), Season 1</td>\n",
       "    </tr>\n",
       "    <tr>\n",
       "      <th>346</th>\n",
       "      <td>70665582</td>\n",
       "      <td>Lost, Season 3</td>\n",
       "    </tr>\n",
       "  </tbody>\n",
       "</table>\n",
       "<p>347 rows × 2 columns</p>\n",
       "</div>"
      ],
      "text/plain": [
       "     sum(Milliseconds)                                              Title\n",
       "0                51780        Liszt - 12 Études D'Execution Transcendante\n",
       "1                66639                                Monteverdi: L'Orfeo\n",
       "2               101293                           SCRIABIN: Vers la flamme\n",
       "3               110266      Charpentier: Divertissements, Airs & Concerts\n",
       "4               120000  Handel: Music for the Royal Fireworks (Origina...\n",
       "..                 ...                                                ...\n",
       "342           59780268                                   Heroes, Season 1\n",
       "343           63289631                                     Lost, Season 2\n",
       "344           64854936                                     Lost, Season 1\n",
       "345           70213784           Battlestar Galactica (Classic), Season 1\n",
       "346           70665582                                     Lost, Season 3\n",
       "\n",
       "[347 rows x 2 columns]"
      ]
     },
     "execution_count": 36,
     "metadata": {},
     "output_type": "execute_result"
    }
   ],
   "source": [
    "#Problem 13:\n",
    "#allrowsSelect(conn, \"select sum(Milliseconds),Title from track_album group by AlbumId order by sum(Milliseconds);\")\n",
    "pd.read_sql_query(\"select sum(Milliseconds),Title from track_album group by AlbumId order by sum(Milliseconds);\",conn)\n",
    "\n",
    "#Monteverdi: L'Orfeo is the second shortest album in the database."
   ]
  },
  {
   "cell_type": "code",
   "execution_count": 33,
   "metadata": {},
   "outputs": [
    {
     "name": "stdout",
     "output_type": "stream",
     "text": [
      "(7,)\n",
      "(6,)\n",
      "(14,)\n"
     ]
    }
   ],
   "source": [
    "#Problem 14:\n",
    "allrowsSelect(conn,\"select distinct count(*) from invoices group by BillingCity;\")\n",
    "#allrowsSelect(conn,\"select count(*),BillingCity from invoices group by BillingCity;\")\n",
    "\n",
    "#The distinct values for the number of invoices in a city are 6, 7, and 14."
   ]
  }
 ],
 "metadata": {
  "kernelspec": {
   "display_name": "Python 3.10.8 64-bit",
   "language": "python",
   "name": "python3"
  },
  "language_info": {
   "codemirror_mode": {
    "name": "ipython",
    "version": 3
   },
   "file_extension": ".py",
   "mimetype": "text/x-python",
   "name": "python",
   "nbconvert_exporter": "python",
   "pygments_lexer": "ipython3",
   "version": "3.10.8"
  },
  "orig_nbformat": 4,
  "vscode": {
   "interpreter": {
    "hash": "369f2c481f4da34e4445cda3fffd2e751bd1c4d706f27375911949ba6bb62e1c"
   }
  }
 },
 "nbformat": 4,
 "nbformat_minor": 2
}
